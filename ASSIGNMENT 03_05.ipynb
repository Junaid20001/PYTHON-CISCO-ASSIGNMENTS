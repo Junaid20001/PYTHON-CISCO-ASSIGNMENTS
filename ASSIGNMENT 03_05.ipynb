{
 "cells": [
  {
   "cell_type": "code",
   "execution_count": 1,
   "metadata": {},
   "outputs": [
    {
     "ename": "SyntaxError",
     "evalue": "invalid syntax (<ipython-input-1-69db3685e512>, line 6)",
     "output_type": "error",
     "traceback": [
      "\u001b[1;36m  File \u001b[1;32m\"<ipython-input-1-69db3685e512>\"\u001b[1;36m, line \u001b[1;32m6\u001b[0m\n\u001b[1;33m    The length of list is:  4\u001b[0m\n\u001b[1;37m             ^\u001b[0m\n\u001b[1;31mSyntaxError\u001b[0m\u001b[1;31m:\u001b[0m invalid syntax\n"
     ]
    }
   ],
   "source": [
    "# Python program to demonstrate working \n",
    "# of len() \n",
    "n = len([10, 20, 30]) \n",
    "print(\"The length of list is: \", n) \n",
    "\n",
    "The length of list is:  4\n",
    "filter_none\n",
    "edit\n",
    "play_arrow\n",
    "\n",
    "brightness_4\n",
    "# Python program to demonstrate working \n",
    "# of len() \n",
    "n = len([10, 20, 30]) \n",
    "print(\"The length of list is: \", n)"
   ]
  },
  {
   "cell_type": "code",
   "execution_count": 2,
   "metadata": {},
   "outputs": [
    {
     "name": "stdout",
     "output_type": "stream",
     "text": [
      "The list is : [1, 4, 5, 7, 8]\n",
      "Length of list using len() is : 5\n",
      "Length of list using length_hint() is : 5\n"
     ]
    }
   ],
   "source": [
    "# Python code to demonstrate \n",
    "# length of list \n",
    "# using len() and length_hint \n",
    "from operator import length_hint \n",
    "  \n",
    "# Initializing list  \n",
    "test_list = [ 1, 4, 5, 7, 8 ] \n",
    "  \n",
    "# Printing test_list \n",
    "print (\"The list is : \" + str(test_list)) \n",
    "  \n",
    "# Finding length of list  \n",
    "# using len() \n",
    "list_len = len(test_list) \n",
    "  \n",
    "# Finding length of list  \n",
    "# using length_hint() \n",
    "list_len_hint = length_hint(test_list) \n",
    "  \n",
    "# Printing length of list  \n",
    "print (\"Length of list using len() is : \" + str(list_len)) \n",
    "print (\"Length of list using length_hint() is : \" + str(list_len_hint))"
   ]
  },
  {
   "cell_type": "code",
   "execution_count": null,
   "metadata": {},
   "outputs": [],
   "source": []
  }
 ],
 "metadata": {
  "kernelspec": {
   "display_name": "Python 3",
   "language": "python",
   "name": "python3"
  },
  "language_info": {
   "codemirror_mode": {
    "name": "ipython",
    "version": 3
   },
   "file_extension": ".py",
   "mimetype": "text/x-python",
   "name": "python",
   "nbconvert_exporter": "python",
   "pygments_lexer": "ipython3",
   "version": "3.7.4"
  }
 },
 "nbformat": 4,
 "nbformat_minor": 2
}
